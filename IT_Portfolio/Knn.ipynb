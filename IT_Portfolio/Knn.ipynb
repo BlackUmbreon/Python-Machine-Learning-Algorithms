{
 "cells": [
  {
   "cell_type": "code",
   "execution_count": 38,
   "metadata": {},
   "outputs": [
    {
     "name": "stdout",
     "output_type": "stream",
     "text": [
      "0.9260528893241919\n"
     ]
    }
   ],
   "source": [
    "#Knn is an algorithm that takes a new datapoint and seeing the cloest k datapoints to it\n",
    "#using this information it simply assigns the datapoint to the cluster with the most neighbours\n",
    "#this only works on group type data\n",
    "\n",
    "#Imports necessary libraries\n",
    "import pandas as pd\n",
    "import numpy as np\n",
    "from sklearn.model_selection import train_test_split\n",
    "from sklearn.preprocessing import StandardScaler\n",
    "from sklearn.neighbors import KNeighborsClassifier\n",
    "from sklearn.metrics import confusion_matrix\n",
    "from sklearn.metrics import f1_score\n",
    "from sklearn.metrics import accuracy_score\n",
    "from sklearn import linear_model, preprocessing\n",
    "\n",
    "#Load the dataset from a CSV file\n",
    "data = pd.read_csv(\"dry_beans_dataset.csv\")\n",
    "\n",
    "#preprocess data: Convert bean type (class) into an integer using label encoding\n",
    "le = preprocessing.LabelEncoder()\n",
    "Class = le.fit_transform(list(data[\"Class\"]))\n",
    "\n",
    "#define features (X) and target (Y) variables\n",
    "X = data.drop(\"Class\", axis=1)  # Features\n",
    "Y = Class  # Target variable\n",
    "\n",
    "#split the data into training and testing sets\n",
    "X_train, X_test, Y_train, Y_test = train_test_split(X, Y, test_size=0.3, random_state=5)\n",
    "\n",
    "#create a K-Nearest Neighbors classifier model with 7 neighbors\n",
    "model = KNeighborsClassifier(n_neighbors=7)\n",
    "\n",
    "#Standardize the features using StandardScaler to ensure all features have similar scales\n",
    "sc_x = StandardScaler()  # Initialize the scaler\n",
    "X_train = sc_x.fit_transform(X_train)  # Scale the training features\n",
    "X_test = sc_x.transform(X_test)  # Scale the testing features\n",
    "\n",
    "#Train the K-Nearest Neighbors model on the scaled training data\n",
    "model.fit(X_train, Y_train)\n",
    "\n",
    "#Evaluate the accuracy of the model on the scaled testing data\n",
    "accuracy = model.score(X_test, Y_test)\n",
    "\n",
    "#print the accuracy of the model\n",
    "print(accuracy)\n"
   ]
  }
 ],
 "metadata": {
  "kernelspec": {
   "display_name": "Python 3",
   "language": "python",
   "name": "python3"
  },
  "language_info": {
   "codemirror_mode": {
    "name": "ipython",
    "version": 3
   },
   "file_extension": ".py",
   "mimetype": "text/x-python",
   "name": "python",
   "nbconvert_exporter": "python",
   "pygments_lexer": "ipython3",
   "version": "3.11.3"
  },
  "orig_nbformat": 4
 },
 "nbformat": 4,
 "nbformat_minor": 2
}
